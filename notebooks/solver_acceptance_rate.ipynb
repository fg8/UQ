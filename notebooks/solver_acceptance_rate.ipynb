{
 "cells": [
  {
   "cell_type": "code",
   "execution_count": 1,
   "metadata": {},
   "outputs": [
    {
     "name": "stdout",
     "output_type": "stream",
     "text": [
      "Address of the pipe in the memory from python:  0x2385be0\n"
     ]
    }
   ],
   "source": [
    "'''A script to run UQ for a pipe using PCN.\n",
    "\n",
    "Parameters\n",
    "----------\n",
    "\n",
    "expan_coef: int\n",
    "size of friction coefficient vector\n",
    "\n",
    "uni_prior_down: float * expan_coef\n",
    "lower bound for the uniform prior\n",
    "\n",
    "uni_prior_up: float * expan_coef\n",
    "upper bound for the uniform prior\n",
    "\n",
    "initial_point_mcmc: float * expan_coef\n",
    "initial point in the MCMC sampler\n",
    "\n",
    "c_sound: float\n",
    "sound speed\n",
    "\n",
    "t_final: float\n",
    "final time\n",
    "\n",
    "x_l: float\n",
    "left boundary of the domain\n",
    "\n",
    "x_r: float\n",
    "right boundary of the domain\n",
    "\n",
    "dx: float\n",
    "mesh size\n",
    "\n",
    "boundary_eps: float\n",
    "a number for computing pressure drop at both ends of the pipe\n",
    "\n",
    "pipe_true: SemiLinSystem\n",
    "an object that represents and contains attributes of the true pipe\n",
    "\n",
    "pipe: SemiLinSystem \n",
    "an object that represents and contains attributes\n",
    "of a pipe used during MCMC for sampling\n",
    "\n",
    "'''\n",
    "\n",
    "from UQuant.SemilinearSystem import SemiLinSystem\n",
    "from bayesianinversion import MCMCBayesianInversion, PCNBayesianInversion\n",
    "from numpy.random import normal\n",
    "\n",
    "# build a pipe\n",
    "\n",
    "## physical settings\n",
    "c_sound = 1.0\n",
    "t_final = 5.0\n",
    "x_l, x_r = [0.0, 1.0]\n",
    "dx = 0.005\n",
    "boundary_eps = 0.05\n",
    "\n",
    "## true friction coefficient\n",
    "true_friction = [0.185938, -0.0519335, 0., 0., -0.0696583, 0.0336323, 0., 0., \\\n",
    "                 0.0348292, -0.0121076, 0., 0., -0.00773981, 0.00105987, 0., 0., 0., \\\n",
    "                 -0.000641154, 0., 0., -0.00278633, 0.00250158, 0., 0., 0.00386991, \\\n",
    "                 -0.00179107, 0., 0., -0.0014216, 0.000230816, 0., 0., 0., \\\n",
    "                 -0.000179701, 0., 0., -0.000859979, 0.000838478, 0., 0., 0.00139317]\n",
    "\n",
    "initial_point_mcmc = [0.45, 0., 0., 0., 0., 0., 0., 0., 0., 0., 0., 0., 0., 0., 0.]\n",
    "uni_prior_range = {\n",
    "    \"up\":   [0.5, 0.05, 0.05, 0.05, 0.05, 0.05, 0.05, 0.05, 0.05, 0.05, 0.05, 0.05, 0.05, 0.05, 0.05],\n",
    "    \"down\": [0.05, -.05, -.05, -.05, -.05, -.05, -.05, -.05, -.05, -.05, -.05, -.05, -.05, -.05, -.05],\n",
    "}\n",
    "\n",
    "\n",
    "true_expan_coef = len(true_friction)\n",
    "\n",
    "time_ins = 20\n",
    "time_ins_fine = 100\n",
    "\n",
    "# construct and run the true pipe\n",
    "pipe_true = SemiLinSystem(c_sound, t_final, x_l, x_r, dx, true_expan_coef, boundary_eps)\n",
    "pipe_true.run(true_friction)\n",
    "\n",
    "y_obs_true = pipe_true.get_presure_drop(time_instance=time_ins_fine, inplace=False)\n",
    "\n",
    "epsilon = 0.05\n",
    "y_obs = normal(0.0, epsilon, time_ins_fine) + y_obs_true\n",
    "y_obs_times = pipe_true.timeslices"
   ]
  },
  {
   "cell_type": "code",
   "execution_count": 2,
   "metadata": {},
   "outputs": [],
   "source": [
    "def PCN_MCMC_thread(data):\n",
    "    '''\n",
    "    for full multi-threading: running MCMC and PCN alongside.\n",
    "    '''\n",
    "    \n",
    "    solver_name = data[\"solver_name\"]\n",
    "    expan_coef  = data[\"expan_coef\"]\n",
    "    \n",
    "    beta = data.get(\"beta\")\n",
    "    if not beta:\n",
    "        beta = 0.5\n",
    "    \n",
    "    init_pt = initial_point_mcmc[:expan_coef]\n",
    "    sigma_normal = 0.05\n",
    "\n",
    "    conf = {\n",
    "        \"epsilon\": epsilon,\n",
    "        \"sigma_normal\": sigma_normal,\n",
    "        \"initial_point_mcmc\": init_pt,\n",
    "        \"uni_prior_range\": uni_prior_range,\n",
    "        \"beta\": beta,\n",
    "    }    \n",
    "    \n",
    "    if solver_name == \"MCMC\":\n",
    "        method = MCMCBayesianInversion\n",
    "    elif solver_name == \"PCN\":\n",
    "        method = PCNBayesianInversion\n",
    "    else:\n",
    "        print (\"solver_name not found\")\n",
    "        return None\n",
    "    \n",
    "    solver = method(c_sound, t_final, x_l, x_r, dx, expan_coef, boundary_eps, time_ins)\n",
    "    solver.run(conf, y_obs, y_obs_times, max_iter=10000, burning=2000, jupyter=True)\n",
    "    \n",
    "    folder = \"/Home/varioper/hajian/UQ/results/\"\n",
    "    filename = solver_name+\"_\"+str(expan_coef)+\".dat\"\n",
    "    path = folder + filename\n",
    "    solver.sampler.write(path, write_prob=True)\n",
    "    \n",
    "    return (solver_name, {expan_coef: solver.sampler.stats, \"beta\": beta})"
   ]
  },
  {
   "cell_type": "code",
   "execution_count": 17,
   "metadata": {},
   "outputs": [
    {
     "name": "stdout",
     "output_type": "stream",
     "text": [
      "16\n"
     ]
    }
   ],
   "source": [
    "import multiprocessing\n",
    "from numpy import arange\n",
    "\n",
    "# EXPAN_COEF = [{\"solver_name\": method, \n",
    "#                \"expan_coef\": expan_coef,\n",
    "#               } \n",
    "#               for method in [\"PCN\"] for expan_coef in list(range(1,5,2))\n",
    "#              ]\n",
    "EXPAN_COEF = [{\"solver_name\": method, \n",
    "               \"expan_coef\": expan_coef,\n",
    "               \"beta\": beta\n",
    "              } \n",
    "              for method in [\"PCN\", \"MCMC\"] for expan_coef in list(range(1,17,2))\n",
    "              for beta in [0.10]\n",
    "             ]\n",
    "NUM_THREAD = 32\n",
    "\n",
    "print (len(EXPAN_COEF))\n",
    "print (EXPAN_COEF)"
   ]
  },
  {
   "cell_type": "code",
   "execution_count": 18,
   "metadata": {},
   "outputs": [
    {
     "name": "stdout",
     "output_type": "stream",
     "text": [
      "Address of the pipe in the memory from python:  0x23bf540\n",
      "Address of the pipe in the memory from python:  0x23bf540\n",
      "Address of the pipe in the memory from python:  0x23bf540\n",
      "Address of the pipe in the memory from python:  0x23af180\n",
      "Address of the pipe in the memory from python:  0x23bf540\n",
      "Address of the pipe in the memory from python:  0x23bf540\n",
      "Address of the pipe in the memory from python:  0x23bf540\n",
      "Address of the pipe in the memory from python:  0x23bf540\n",
      "Address of the pipe in the memory from python:  0x23bf540\n",
      "Address of the pipe in the memory from python:  0x1c23ca0\n",
      "Address of the pipe in the memory from python:  0x23bf540\n",
      "Address of the pipe in the memory from python:  0x23bf540\n",
      "Address of the pipe in the memory from python:  0x23af180\n",
      "Address of the pipe in the memory from python:  0x23bf540\n",
      "Address of the pipe in the memory from python:  0x23bf540\n",
      "Address of the pipe in the memory from python:  0x23bf540\n"
     ]
    },
    {
     "data": {
      "application/vnd.jupyter.widget-view+json": {
       "model_id": "85875cdaef074165978fd570dd75e983",
       "version_major": 2,
       "version_minor": 0
      },
      "text/plain": [
       "HBox(children=(IntProgress(value=0, max=10000), HTML(value=u'')))"
      ]
     },
     "metadata": {},
     "output_type": "display_data"
    },
    {
     "data": {
      "application/vnd.jupyter.widget-view+json": {
       "model_id": "9e411fba2e8042dda3a8ec6a99d54ca6",
       "version_major": 2,
       "version_minor": 0
      },
      "text/plain": [
       "HBox(children=(IntProgress(value=0, max=10000), HTML(value=u'')))"
      ]
     },
     "metadata": {},
     "output_type": "display_data"
    },
    {
     "data": {
      "application/vnd.jupyter.widget-view+json": {
       "model_id": "7b54d4fbc09043dfb78a585b3d2dbaf7",
       "version_major": 2,
       "version_minor": 0
      },
      "text/plain": [
       "HBox(children=(IntProgress(value=0, max=10000), HTML(value=u'')))"
      ]
     },
     "metadata": {},
     "output_type": "display_data"
    },
    {
     "data": {
      "application/vnd.jupyter.widget-view+json": {
       "model_id": "1ed9e3e4bbb1474d928debd6d2d2d753",
       "version_major": 2,
       "version_minor": 0
      },
      "text/plain": [
       "HBox(children=(IntProgress(value=0, max=10000), HTML(value=u'')))"
      ]
     },
     "metadata": {},
     "output_type": "display_data"
    },
    {
     "data": {
      "application/vnd.jupyter.widget-view+json": {
       "model_id": "4365db745d4d4ce8a336080a8619423d",
       "version_major": 2,
       "version_minor": 0
      },
      "text/plain": [
       "HBox(children=(IntProgress(value=0, max=10000), HTML(value=u'')))"
      ]
     },
     "metadata": {},
     "output_type": "display_data"
    },
    {
     "data": {
      "application/vnd.jupyter.widget-view+json": {
       "model_id": "cd4d0f65534e447c9fd941c224b0da6f",
       "version_major": 2,
       "version_minor": 0
      },
      "text/plain": [
       "HBox(children=(IntProgress(value=0, max=10000), HTML(value=u'')))"
      ]
     },
     "metadata": {},
     "output_type": "display_data"
    },
    {
     "data": {
      "application/vnd.jupyter.widget-view+json": {
       "model_id": "5420b32f2a1041c7afcbc15462b826e6",
       "version_major": 2,
       "version_minor": 0
      },
      "text/plain": [
       "HBox(children=(IntProgress(value=0, max=10000), HTML(value=u'')))"
      ]
     },
     "metadata": {},
     "output_type": "display_data"
    },
    {
     "data": {
      "application/vnd.jupyter.widget-view+json": {
       "model_id": "7af0283f16cc4a5a8e4690ca642ac9e5",
       "version_major": 2,
       "version_minor": 0
      },
      "text/plain": [
       "HBox(children=(IntProgress(value=0, max=10000), HTML(value=u'')))"
      ]
     },
     "metadata": {},
     "output_type": "display_data"
    },
    {
     "data": {
      "application/vnd.jupyter.widget-view+json": {
       "model_id": "065740aec3974b5a94ff004173a66df9",
       "version_major": 2,
       "version_minor": 0
      },
      "text/plain": [
       "HBox(children=(IntProgress(value=0, max=10000), HTML(value=u'')))"
      ]
     },
     "metadata": {},
     "output_type": "display_data"
    },
    {
     "data": {
      "application/vnd.jupyter.widget-view+json": {
       "model_id": "fe12182d76eb4f12b37f2382f32abb7f",
       "version_major": 2,
       "version_minor": 0
      },
      "text/plain": [
       "HBox(children=(IntProgress(value=0, max=10000), HTML(value=u'')))"
      ]
     },
     "metadata": {},
     "output_type": "display_data"
    },
    {
     "data": {
      "application/vnd.jupyter.widget-view+json": {
       "model_id": "0d780a9115c64a7abd14b7d07a25dae2",
       "version_major": 2,
       "version_minor": 0
      },
      "text/plain": [
       "HBox(children=(IntProgress(value=0, max=10000), HTML(value=u'')))"
      ]
     },
     "metadata": {},
     "output_type": "display_data"
    },
    {
     "data": {
      "application/vnd.jupyter.widget-view+json": {
       "model_id": "7b2b3d6c34db42108db7f4b3274e4930",
       "version_major": 2,
       "version_minor": 0
      },
      "text/plain": [
       "HBox(children=(IntProgress(value=0, max=10000), HTML(value=u'')))"
      ]
     },
     "metadata": {},
     "output_type": "display_data"
    },
    {
     "data": {
      "application/vnd.jupyter.widget-view+json": {
       "model_id": "c882a75ca4e844f2b993b386f4c3dffa",
       "version_major": 2,
       "version_minor": 0
      },
      "text/plain": [
       "HBox(children=(IntProgress(value=0, max=10000), HTML(value=u'')))"
      ]
     },
     "metadata": {},
     "output_type": "display_data"
    },
    {
     "data": {
      "application/vnd.jupyter.widget-view+json": {
       "model_id": "3056c9680c6c4b119e18bf038ad0dfb3",
       "version_major": 2,
       "version_minor": 0
      },
      "text/plain": [
       "HBox(children=(IntProgress(value=0, max=10000), HTML(value=u'')))"
      ]
     },
     "metadata": {},
     "output_type": "display_data"
    },
    {
     "data": {
      "application/vnd.jupyter.widget-view+json": {
       "model_id": "c7635dbbe2f04ecfb65679beaabfaa7e",
       "version_major": 2,
       "version_minor": 0
      },
      "text/plain": [
       "HBox(children=(IntProgress(value=0, max=10000), HTML(value=u'')))"
      ]
     },
     "metadata": {},
     "output_type": "display_data"
    },
    {
     "data": {
      "application/vnd.jupyter.widget-view+json": {
       "model_id": "9571c5a264e945b2b5f3df7ef803037c",
       "version_major": 2,
       "version_minor": 0
      },
      "text/plain": [
       "HBox(children=(IntProgress(value=0, max=10000), HTML(value=u'')))"
      ]
     },
     "metadata": {},
     "output_type": "display_data"
    },
    {
     "name": "stdout",
     "output_type": "stream",
     "text": [
      "\n",
      "\n",
      "\n",
      "\n",
      "\n",
      "\n",
      "\n",
      "\n",
      "\n",
      "\n",
      "\n",
      "\n",
      "\n",
      "\n",
      "\n",
      "\n"
     ]
    }
   ],
   "source": [
    "# solve in parallel\n",
    "pool = multiprocessing.Pool(NUM_THREAD)\n",
    "results = pool.map_async(PCN_MCMC_thread, EXPAN_COEF)\n",
    "\n",
    "pool.close()\n",
    "pool.join()"
   ]
  },
  {
   "cell_type": "code",
   "execution_count": 19,
   "metadata": {},
   "outputs": [],
   "source": [
    "from functools import reduce\n",
    "from itertools import groupby\n",
    "\n",
    "\n",
    "def reduceByKey(func, iterable):\n",
    "    \"\"\"Reduce by key.\n",
    "    Equivalent to the Spark counterpart\n",
    "    Inspired by http://stackoverflow.com/q/33648581/554319\n",
    "    1. Sort by key\n",
    "    2. Group by key yielding (key, grouper)\n",
    "    3. For each pair yield (key, reduce(func, last element of each grouper))\n",
    "    \"\"\"\n",
    "    get_first = lambda p: p[0]\n",
    "    get_second = lambda p: p[1]\n",
    "    # iterable.groupBy(_._1).map(l => (l._1, l._2.map(_._2).reduce(func)))\n",
    "    return map(\n",
    "        lambda l: (l[0], reduce(func, map(get_second, l[1]))),\n",
    "        groupby(sorted(iterable, key=get_first), get_first)\n",
    "    )"
   ]
  },
  {
   "cell_type": "code",
   "execution_count": 20,
   "metadata": {},
   "outputs": [],
   "source": [
    "res = results.get()"
   ]
  },
  {
   "cell_type": "code",
   "execution_count": 22,
   "metadata": {},
   "outputs": [
    {
     "data": {
      "text/plain": [
       "[('PCN', {1: {'accepted': 1678, 'rejected': 6321}, 'beta': 0.1}),\n",
       " ('PCN', {3: {'accepted': 2257, 'rejected': 5742}, 'beta': 0.1}),\n",
       " ('PCN', {5: {'accepted': 1951, 'rejected': 6048}, 'beta': 0.1}),\n",
       " ('PCN', {7: {'accepted': 2237, 'rejected': 5762}, 'beta': 0.1}),\n",
       " ('PCN', {9: {'accepted': 1946, 'rejected': 6053}, 'beta': 0.1}),\n",
       " ('PCN', {11: {'accepted': 2155, 'rejected': 5844}, 'beta': 0.1}),\n",
       " ('PCN', {13: {'accepted': 2106, 'rejected': 5893}, 'beta': 0.1}),\n",
       " ('PCN', {15: {'accepted': 1988, 'rejected': 6011}, 'beta': 0.1}),\n",
       " ('MCMC', {1: {'accepted': 516, 'rejected': 7483}, 'beta': 0.1}),\n",
       " ('MCMC', {3: {'accepted': 153, 'rejected': 7846}, 'beta': 0.1}),\n",
       " ('MCMC', {5: {'accepted': 51, 'rejected': 7948}, 'beta': 0.1}),\n",
       " ('MCMC', {7: {'accepted': 28, 'rejected': 7971}, 'beta': 0.1}),\n",
       " ('MCMC', {9: {'accepted': 9, 'rejected': 7990}, 'beta': 0.1}),\n",
       " ('MCMC', {11: {'accepted': 7, 'rejected': 7992}, 'beta': 0.1}),\n",
       " ('MCMC', {13: {'accepted': 5, 'rejected': 7994}, 'beta': 0.1}),\n",
       " ('MCMC', {15: {'accepted': 3, 'rejected': 7996}, 'beta': 0.1})]"
      ]
     },
     "execution_count": 22,
     "metadata": {},
     "output_type": "execute_result"
    }
   ],
   "source": [
    "res"
   ]
  },
  {
   "cell_type": "code",
   "execution_count": 11,
   "metadata": {},
   "outputs": [
    {
     "data": {
      "text/plain": [
       "[('MCMC',\n",
       "  {1: {'accepted': 707, 'rejected': 9293},\n",
       "   3: {'accepted': 196, 'rejected': 9804},\n",
       "   5: {'accepted': 92, 'rejected': 9908},\n",
       "   7: {'accepted': 27, 'rejected': 9973},\n",
       "   9: {'accepted': 19, 'rejected': 9981},\n",
       "   11: {'accepted': 11, 'rejected': 9989},\n",
       "   13: {'accepted': 10, 'rejected': 9990},\n",
       "   15: {'accepted': 4, 'rejected': 9996},\n",
       "   'beta': 0.060000000000000005}),\n",
       " ('PCN',\n",
       "  {1: {'accepted': 3412, 'rejected': 6588},\n",
       "   3: {'accepted': 4388, 'rejected': 5612},\n",
       "   5: {'accepted': 4237, 'rejected': 5763},\n",
       "   7: {'accepted': 4324, 'rejected': 5676},\n",
       "   9: {'accepted': 4298, 'rejected': 5702},\n",
       "   11: {'accepted': 3926, 'rejected': 6074},\n",
       "   13: {'accepted': 4021, 'rejected': 5979},\n",
       "   15: {'accepted': 4259, 'rejected': 5741},\n",
       "   'beta': 0.060000000000000005})]"
      ]
     },
     "execution_count": 11,
     "metadata": {},
     "output_type": "execute_result"
    }
   ],
   "source": [
    "# get the results\n",
    "reduceByKey(lambda x, y: dict(x.items() + y.items()), res)"
   ]
  },
  {
   "cell_type": "markdown",
   "metadata": {},
   "source": [
    "# Testing"
   ]
  },
  {
   "cell_type": "code",
   "execution_count": 2,
   "metadata": {},
   "outputs": [
    {
     "name": "stdout",
     "output_type": "stream",
     "text": [
      "Address of the pipe in the memory from python:  0x2ab2240\n"
     ]
    }
   ],
   "source": [
    "expan_coef = 13\n",
    "\n",
    "init_pt = initial_point_mcmc[:expan_coef]\n",
    "sigma_normal = 0.05\n",
    "\n",
    "conf = {\n",
    "    \"epsilon\": epsilon,\n",
    "    \"sigma_normal\": sigma_normal,\n",
    "    \"initial_point_mcmc\": init_pt,\n",
    "    \"uni_prior_range\": uni_prior_range,\n",
    "}  \n",
    "\n",
    "solver = MCMCBayesianInversion(c_sound, t_final, x_l, x_r, dx, expan_coef, boundary_eps, time_ins)"
   ]
  },
  {
   "cell_type": "code",
   "execution_count": null,
   "metadata": {},
   "outputs": [
    {
     "data": {
      "application/vnd.jupyter.widget-view+json": {
       "model_id": "64d8343ebc81421697f4d38334c5855a",
       "version_major": 2,
       "version_minor": 0
      },
      "text/plain": [
       "HBox(children=(IntProgress(value=0, max=10000), HTML(value=u'')))"
      ]
     },
     "metadata": {},
     "output_type": "display_data"
    },
    {
     "name": "stdout",
     "output_type": "stream",
     "text": [
      "error in MCMC.run:\n",
      "0.0 [ 0.42897791  0.0094159  -0.0071557   0.04528916 -0.06217077  0.0043317\n",
      " -0.00868904 -0.02070431 -0.03204799  0.04436623 -0.0835185  -0.0028695\n",
      "  0.02110529]\n",
      "1.26905969248e-25 [ 0.44061725  0.00924929  0.02010494 -0.00101246  0.01603768 -0.04682154\n",
      "  0.0173322   0.00370737 -0.04096646  0.03060494 -0.02500133 -0.03098505\n",
      " -0.03200341]\n"
     ]
    }
   ],
   "source": [
    "solver.run(conf, y_obs, y_obs_times, max_iter=10000, burning=1000, jupyter=True)"
   ]
  },
  {
   "cell_type": "code",
   "execution_count": 30,
   "metadata": {},
   "outputs": [
    {
     "data": {
      "text/plain": [
       "{'accepted': 264, 'rejected': 4736}"
      ]
     },
     "execution_count": 30,
     "metadata": {},
     "output_type": "execute_result"
    }
   ],
   "source": [
    "solver.sampler.stats"
   ]
  },
  {
   "cell_type": "code",
   "execution_count": 17,
   "metadata": {},
   "outputs": [],
   "source": [
    "solver.sampler.write(\"/Home/varioper/hajian/UQ/results/uq_pcn.dat\", write_prob=True)"
   ]
  },
  {
   "cell_type": "code",
   "execution_count": 8,
   "metadata": {},
   "outputs": [],
   "source": [
    "import os\n",
    "from shutil import copyfile\n",
    "\n",
    "PACKAGE_DIR = \"/Home/varioper/hajian/UQ/\"\n",
    "FOLDER = \"results/\"\n",
    "os.chdir(PACKAGE_DIR)"
   ]
  },
  {
   "cell_type": "code",
   "execution_count": 21,
   "metadata": {},
   "outputs": [],
   "source": [
    "copyfile(FOLDER+\"PCN_11.dat\", FOLDER+\"uq_pcn.dat\")"
   ]
  },
  {
   "cell_type": "code",
   "execution_count": 23,
   "metadata": {},
   "outputs": [
    {
     "name": "stdout",
     "output_type": "stream",
     "text": [
      "Address of the pipe in the memory from python:  0x38035a0\n",
      "Address of the pipe in the memory from python:  0x23c6480\n"
     ]
    },
    {
     "data": {
      "image/png": "[encoded data removed]",
      "text/plain": [
       "<matplotlib.figure.Figure at 0x2b94b81e7490>"
      ]
     },
     "metadata": {},
     "output_type": "display_data"
    },
    {
     "data": {
      "image/png": "[encoded data removed]",
      "text/plain": [
       "<matplotlib.figure.Figure at 0x2b95207aec90>"
      ]
     },
     "metadata": {},
     "output_type": "display_data"
    }
   ],
   "source": [
    "%run ~/UQ/examples/clustering.py"
   ]
  },
  {
   "cell_type": "markdown",
   "metadata": {},
   "source": [
    "## finding optimal beta"
   ]
  },
  {
   "cell_type": "markdown",
   "metadata": {},
   "source": [
    "```\n",
    "[('PCN',\n",
    "  {3: {'accepted': 2687, 'rejected': 7313}, 'beta': 0.10000000000000001}),\n",
    " ('PCN',\n",
    "  {3: {'accepted': 1418, 'rejected': 8582}, 'beta': 0.20000000000000001}),\n",
    " ('PCN',\n",
    "  {3: {'accepted': 892, 'rejected': 9108}, 'beta': 0.30000000000000004}),\n",
    " ('PCN',\n",
    "  {3: {'accepted': 688, 'rejected': 9312}, 'beta': 0.40000000000000002}),\n",
    " ('PCN', {3: {'accepted': 492, 'rejected': 9508}, 'beta': 0.5}),\n",
    " ('PCN',\n",
    "  {3: {'accepted': 404, 'rejected': 9596}, 'beta': 0.59999999999999998}),\n",
    " ('PCN',\n",
    "  {3: {'accepted': 345, 'rejected': 9655}, 'beta': 0.70000000000000007}),\n",
    " ('PCN',\n",
    "  {3: {'accepted': 304, 'rejected': 9696}, 'beta': 0.80000000000000004}),\n",
    " ('PCN',\n",
    "  {3: {'accepted': 241, 'rejected': 9759}, 'beta': 0.90000000000000002}),\n",
    " ('PCN',\n",
    "  {5: {'accepted': 2497, 'rejected': 7503}, 'beta': 0.10000000000000001}),\n",
    " ('PCN',\n",
    "  {5: {'accepted': 1331, 'rejected': 8669}, 'beta': 0.20000000000000001}),\n",
    " ('PCN',\n",
    "  {5: {'accepted': 842, 'rejected': 9158}, 'beta': 0.30000000000000004}),\n",
    " ('PCN',\n",
    "  {5: {'accepted': 605, 'rejected': 9395}, 'beta': 0.40000000000000002}),\n",
    " ('PCN', {5: {'accepted': 457, 'rejected': 9543}, 'beta': 0.5}),\n",
    " ('PCN',\n",
    "  {5: {'accepted': 357, 'rejected': 9643}, 'beta': 0.59999999999999998}),\n",
    " ('PCN',\n",
    "  {5: {'accepted': 274, 'rejected': 9726}, 'beta': 0.70000000000000007}),\n",
    " ('PCN',\n",
    "  {5: {'accepted': 271, 'rejected': 9729}, 'beta': 0.80000000000000004}),\n",
    " ('PCN',\n",
    "  {5: {'accepted': 204, 'rejected': 9796}, 'beta': 0.90000000000000002})]\n",
    "```"
   ]
  },
  {
   "cell_type": "code",
   "execution_count": null,
   "metadata": {},
   "outputs": [],
   "source": []
  }
 ],
 "metadata": {
  "kernelspec": {
   "display_name": "Python 2",
   "language": "python",
   "name": "python2"
  },
  "language_info": {
   "codemirror_mode": {
    "name": "ipython",
    "version": 2
   },
   "file_extension": ".py",
   "mimetype": "text/x-python",
   "name": "python",
   "nbconvert_exporter": "python",
   "pygments_lexer": "ipython2",
   "version": "2.7.13"
  }
 },
 "nbformat": 4,
 "nbformat_minor": 2
}
