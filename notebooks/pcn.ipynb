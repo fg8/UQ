{
 "cells": [
  {
   "cell_type": "code",
   "execution_count": 1,
   "metadata": {},
   "outputs": [],
   "source": [
    "'''A script to run UQ for a pipe using PCN.\n",
    "\n",
    "Parameters\n",
    "----------\n",
    "\n",
    "expan_coef: int\n",
    "size of friction coefficient vector\n",
    "\n",
    "uni_prior_down: float * expan_coef\n",
    "lower bound for the uniform prior\n",
    "\n",
    "uni_prior_up: float * expan_coef\n",
    "upper bound for the uniform prior\n",
    "\n",
    "initial_point_mcmc: float * expan_coef\n",
    "initial point in the MCMC sampler\n",
    "\n",
    "c_sound: float\n",
    "sound speed\n",
    "\n",
    "t_final: float\n",
    "final time\n",
    "\n",
    "x_l: float\n",
    "left boundary of the domain\n",
    "\n",
    "x_r: float\n",
    "right boundary of the domain\n",
    "\n",
    "dx: float\n",
    "mesh size\n",
    "\n",
    "boundary_eps: float\n",
    "a number for computing pressure drop at both ends of the pipe\n",
    "\n",
    "pipe_true: SemiLinSystem\n",
    "an object that represents and contains attributes of the true pipe\n",
    "\n",
    "pipe: SemiLinSystem \n",
    "an object that represents and contains attributes\n",
    "of a pipe used during MCMC for sampling\n",
    "\n",
    "'''\n",
    "\n",
    "from UQuant.pcn import PCN\n",
    "from UQuant.SemilinearSystem import SemiLinSystem\n",
    "\n",
    "from numpy.random import normal\n",
    "from numpy import pi, exp, dot, sqrt\n",
    "from numpy import empty\n",
    "\n",
    "from scipy.stats import norm as scipy_norm\n",
    "from scipy.special import erfinv\n",
    "\n",
    "from math  import isnan\n",
    "\n",
    "# build a pipe\n",
    "\n",
    "## physical settings\n",
    "c_sound = 1.0\n",
    "t_final = 5.0\n",
    "x_l, x_r = [0.0, 1.0]\n",
    "dx = 0.005\n",
    "boundary_eps = 0.05\n",
    "\n",
    "## true friction coefficient\n",
    "true_friction = [0.185938, -0.0519335, 0., 0., -0.0696583, 0.0336323, 0., 0., \\\n",
    "                 0.0348292, -0.0121076, 0., 0., -0.00773981, 0.00105987, 0., 0., 0., \\\n",
    "                 -0.000641154, 0., 0., -0.00278633, 0.00250158, 0., 0., 0.00386991, \\\n",
    "                 -0.00179107, 0., 0., -0.0014216, 0.000230816, 0., 0., 0., \\\n",
    "                 -0.000179701, 0., 0., -0.000859979, 0.000838478, 0., 0., 0.00139317]\n",
    "\n",
    "true_expan_coef = len(true_friction)\n",
    "\n",
    "time_ins = 20"
   ]
  },
  {
   "cell_type": "code",
   "execution_count": 2,
   "metadata": {},
   "outputs": [
    {
     "name": "stdout",
     "output_type": "stream",
     "text": [
      "Address of the pipe in the memory from python:  0x2ef73c0\n",
      "Address of the pipe in the memory from python:  0x2f16d10\n"
     ]
    }
   ],
   "source": [
    "## construct and run the true pipe\n",
    "pipe_true = SemiLinSystem(c_sound, t_final, x_l, x_r, dx, true_expan_coef, boundary_eps)\n",
    "pipe_true.run(true_friction)\n",
    "\n",
    "std_noise = 0.05\n",
    "mean_noise = 0.0\n",
    "\n",
    "y_obs = normal(mean_noise, std_noise, time_ins) + \\\n",
    "        pipe_true.get_presure_drop(time_instance=time_ins, inplace=False)\n",
    "\n",
    "# construct a pipe for computation\n",
    "## stochastic settings\n",
    "uni_prior_down = [0.0, -0.025, -0.025, -0.025, -0.025, -0.01, -0.01, -0.01, -0.01, -0.01, -0.01]\n",
    "uni_prior_up   = [0.45, 0.025, 0.025, 0.025, 0.025, 0.01, 0.01, 0.01, 0.01, 0.01, 0.01]\n",
    "\n",
    "\n",
    "initial_point_mcmc = [0.25, 0.0, 0.0, 0.0, 0.0, 0.0, 0.0, 0.0, 0.0, 0.0, 0.0]\n",
    "\n",
    "expan_coef = len(initial_point_mcmc)\n",
    "\n",
    "pipe = SemiLinSystem(c_sound, t_final, x_l, x_r, dx, expan_coef, boundary_eps)"
   ]
  },
  {
   "cell_type": "code",
   "execution_count": 3,
   "metadata": {},
   "outputs": [],
   "source": [
    "def normal_to_uniform(x):\n",
    "    \"\"\"normal_to_uniform converts a given vector x with normal\n",
    "    distribution (0, I) into a vector with uniform distribution.\n",
    "\n",
    "    x: [float] * len(x)\n",
    "\n",
    "    returns: [float] * len(x)\n",
    "    \"\"\"\n",
    "\n",
    "    length = len(x)\n",
    "    \n",
    "    output = scipy_norm.cdf(x)\n",
    "    \n",
    "    for i in range(length):\n",
    "        limit = (uni_prior_up[i] - uni_prior_down[i])\n",
    "        output[i] = output[i]*limit + uni_prior_down[i]\n",
    "\n",
    "    return output\n",
    "\n",
    "def uniform_to_normal(x):\n",
    "    \"\"\"converts a uniform random variable to a normal distribution\n",
    "    \"\"\"\n",
    "    import copy\n",
    "    \n",
    "    length = len(x)\n",
    "\n",
    "    output = copy.deepcopy(x)\n",
    "\n",
    "    for i in range(length):\n",
    "        limit = (uni_prior_up[i] - uni_prior_down[i])\n",
    "        tmp   = (output[i] - uni_prior_down[i]) / limit\n",
    "        output[i] = sqrt(2.0) * erfinv(2.0*tmp - 1.0)\n",
    "    return output"
   ]
  },
  {
   "cell_type": "code",
   "execution_count": 4,
   "metadata": {},
   "outputs": [],
   "source": [
    "def Nlikelihood(x):\n",
    "    '''computes the negative of likelihood function\n",
    "\n",
    "    Parameters\n",
    "    ----------\n",
    "    x: [float] * len(x)\n",
    "\n",
    "    here x is supposed to have a normal distribution with zero mean\n",
    "    and standard deviation of size 1.\n",
    "    '''\n",
    "\n",
    "    LARGE_NUM = 1000000.0\n",
    "    \n",
    "    pipe.run(x, progress_bool=False)\n",
    "    \n",
    "    # check if we have negative friction\n",
    "    pipe.get_current_lambda_average()\n",
    "    for i in pipe.lambda_avg:\n",
    "        if i<0: return LARGE_NUM\n",
    "    \n",
    "    S = pipe.get_presure_drop(time_instance=time_ins, inplace=False)\n",
    "\n",
    "    out = 0.5 * dot(S-y_obs, S-y_obs) / std_noise\n",
    "\n",
    "    return out"
   ]
  },
  {
   "cell_type": "code",
   "execution_count": 5,
   "metadata": {},
   "outputs": [],
   "source": [
    "pcn = PCN(Nlikelihood, uniform_to_normal, normal_to_uniform, initial_point_mcmc)"
   ]
  },
  {
   "cell_type": "code",
   "execution_count": 6,
   "metadata": {},
   "outputs": [
    {
     "name": "stderr",
     "output_type": "stream",
     "text": [
      "100%|██████████| 4000/4000 [03:20<00:00, 19.97it/s]\n"
     ]
    }
   ],
   "source": [
    "pcn.run(max_iter=4000, burning=1000)"
   ]
  },
  {
   "cell_type": "code",
   "execution_count": 7,
   "metadata": {},
   "outputs": [],
   "source": [
    "import os\n",
    "PACKAGE_DIR = \"/Home/varioper/hajian/UQ/\"\n",
    "os.chdir(PACKAGE_DIR)"
   ]
  },
  {
   "cell_type": "code",
   "execution_count": 8,
   "metadata": {},
   "outputs": [],
   "source": [
    "pcn.write(PACKAGE_DIR+\"results/uq_pcn_11.dat\", write_prob=True)"
   ]
  },
  {
   "cell_type": "code",
   "execution_count": 15,
   "metadata": {},
   "outputs": [
    {
     "name": "stdout",
     "output_type": "stream",
     "text": [
      "Address of the pipe in the memory from python:  0x4d35470\n",
      "Address of the pipe in the memory from python:  0x4252b40\n"
     ]
    },
    {
     "data": {
      "image/png": "[encoded data removed]",
      "text/plain": [
       "<matplotlib.figure.Figure at 0x2b1aefea1050>"
      ]
     },
     "metadata": {},
     "output_type": "display_data"
    }
   ],
   "source": [
    "%run examples/clustering.py"
   ]
  },
  {
   "cell_type": "code",
   "execution_count": null,
   "metadata": {},
   "outputs": [],
   "source": []
  }
 ],
 "metadata": {
  "kernelspec": {
   "display_name": "Python 2",
   "language": "python",
   "name": "python2"
  },
  "language_info": {
   "codemirror_mode": {
    "name": "ipython",
    "version": 2
   },
   "file_extension": ".py",
   "mimetype": "text/x-python",
   "name": "python",
   "nbconvert_exporter": "python",
   "pygments_lexer": "ipython2",
   "version": "2.7.13"
  }
 },
 "nbformat": 4,
 "nbformat_minor": 2
}
